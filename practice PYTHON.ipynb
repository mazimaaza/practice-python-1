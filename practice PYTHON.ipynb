{
 "cells": [
  {
   "cell_type": "code",
   "execution_count": 1,
   "id": "fa3ef460",
   "metadata": {},
   "outputs": [
    {
     "name": "stdout",
     "output_type": "stream",
     "text": [
      "hai mazi\n"
     ]
    }
   ],
   "source": [
    "print(\"hai mazi\")"
   ]
  },
  {
   "cell_type": "code",
   "execution_count": 2,
   "id": "a9db617d",
   "metadata": {},
   "outputs": [],
   "source": [
    "a = 10\n",
    "b = 12\n",
    "c = 34\n",
    "d = 45"
   ]
  },
  {
   "cell_type": "code",
   "execution_count": 3,
   "id": "96ac7516",
   "metadata": {},
   "outputs": [
    {
     "data": {
      "text/plain": [
       "(10, 12, 34, 45)"
      ]
     },
     "execution_count": 3,
     "metadata": {},
     "output_type": "execute_result"
    }
   ],
   "source": [
    "a,b,c,d"
   ]
  },
  {
   "cell_type": "code",
   "execution_count": 5,
   "id": "f2c79c25",
   "metadata": {},
   "outputs": [
    {
     "data": {
      "text/plain": [
       "int"
      ]
     },
     "execution_count": 5,
     "metadata": {},
     "output_type": "execute_result"
    }
   ],
   "source": [
    "type(a)"
   ]
  },
  {
   "cell_type": "code",
   "execution_count": 6,
   "id": "7f185a4c",
   "metadata": {},
   "outputs": [
    {
     "data": {
      "text/plain": [
       "101"
      ]
     },
     "execution_count": 6,
     "metadata": {},
     "output_type": "execute_result"
    }
   ],
   "source": [
    "a + b + c + d"
   ]
  },
  {
   "cell_type": "code",
   "execution_count": 7,
   "id": "35674e10",
   "metadata": {},
   "outputs": [
    {
     "data": {
      "text/plain": [
       "-81"
      ]
     },
     "execution_count": 7,
     "metadata": {},
     "output_type": "execute_result"
    }
   ],
   "source": [
    "a - b - c - d"
   ]
  },
  {
   "cell_type": "code",
   "execution_count": 8,
   "id": "0012fab7",
   "metadata": {},
   "outputs": [
    {
     "data": {
      "text/plain": [
       "183600"
      ]
     },
     "execution_count": 8,
     "metadata": {},
     "output_type": "execute_result"
    }
   ],
   "source": [
    "a * b * c * d"
   ]
  },
  {
   "cell_type": "code",
   "execution_count": 9,
   "id": "a4b1b4d0",
   "metadata": {},
   "outputs": [
    {
     "data": {
      "text/plain": [
       "0.0005446623093681917"
      ]
     },
     "execution_count": 9,
     "metadata": {},
     "output_type": "execute_result"
    }
   ],
   "source": [
    "a/b/c/d"
   ]
  },
  {
   "cell_type": "code",
   "execution_count": 10,
   "id": "50d4cdae",
   "metadata": {},
   "outputs": [
    {
     "data": {
      "text/plain": [
       "float"
      ]
     },
     "execution_count": 10,
     "metadata": {},
     "output_type": "execute_result"
    }
   ],
   "source": [
    "type(a/b/c/d)"
   ]
  },
  {
   "cell_type": "code",
   "execution_count": 11,
   "id": "e79f147c",
   "metadata": {},
   "outputs": [
    {
     "data": {
      "text/plain": [
       "'print(\"sdfh\")\\nprint(\"hjht\")\\nprint(\"fhjv\")\\nprint(\"jhjj\")'"
      ]
     },
     "execution_count": 11,
     "metadata": {},
     "output_type": "execute_result"
    }
   ],
   "source": [
    "\"\"\"print(\"sdfh\")\n",
    "print(\"hjht\")\n",
    "print(\"fhjv\")\n",
    "print(\"jhjj\")\"\"\""
   ]
  },
  {
   "cell_type": "code",
   "execution_count": 15,
   "id": "c1ef5509",
   "metadata": {},
   "outputs": [
    {
     "data": {
      "text/plain": [
       "'print(\"ifhk\")/print(\"jhfjig\")/print(\"hgvf\")'"
      ]
     },
     "execution_count": 15,
     "metadata": {},
     "output_type": "execute_result"
    }
   ],
   "source": [
    "\"\"\"print(\"ifhk\")/print(\"jhfjig\")/print(\"hgvf\")\"\"\""
   ]
  },
  {
   "cell_type": "code",
   "execution_count": 16,
   "id": "9a4fb206",
   "metadata": {},
   "outputs": [
    {
     "name": "stdout",
     "output_type": "stream",
     "text": [
      "this is my var f 78\n"
     ]
    },
    {
     "data": {
      "text/plain": [
       "78"
      ]
     },
     "execution_count": 16,
     "metadata": {},
     "output_type": "execute_result"
    }
   ],
   "source": [
    "int(input(\"this is my var f\"))"
   ]
  },
  {
   "cell_type": "code",
   "execution_count": 20,
   "id": "d4ca212e",
   "metadata": {},
   "outputs": [],
   "source": [
    "h = 0.876\n",
    "i = 34"
   ]
  },
  {
   "cell_type": "code",
   "execution_count": 21,
   "id": "eabccf15",
   "metadata": {},
   "outputs": [
    {
     "data": {
      "text/plain": [
       "29.784"
      ]
     },
     "execution_count": 21,
     "metadata": {},
     "output_type": "execute_result"
    }
   ],
   "source": [
    "h*i"
   ]
  },
  {
   "cell_type": "code",
   "execution_count": 22,
   "id": "d21b52c6",
   "metadata": {},
   "outputs": [],
   "source": [
    "if a < 76 :\n",
    "    pass\n"
   ]
  },
  {
   "cell_type": "code",
   "execution_count": 31,
   "id": "25123cbc",
   "metadata": {},
   "outputs": [
    {
     "name": "stdout",
     "output_type": "stream",
     "text": [
      "enter your salary1500\n",
      "i will buy new car\n"
     ]
    }
   ],
   "source": [
    "salary = int(input(\"enter your salary\"))\n",
    "if salary >1000 :\n",
    "    print(\"i will buy new car\")\n",
    "elif salary >500 :\n",
    "    print(\"i will go for a bike\")\n",
    "elif salary >100 :\n",
    "    print(\"i will not buy anything\")\n",
    "else:\n",
    "    print(\"i will go for saving\")"
   ]
  },
  {
   "cell_type": "code",
   "execution_count": 38,
   "id": "f525c389",
   "metadata": {},
   "outputs": [
    {
     "name": "stdout",
     "output_type": "stream",
     "text": [
      "enter your pocketmoney19990\n",
      "i will buy new house\n"
     ]
    }
   ],
   "source": [
    "pocketmoney = int(input(\"enter your pocketmoney\"))\n",
    "if pocketmoney < 233500:\n",
    "    print(\"i will buy new house\")\n",
    "elif pocketmoney < 13550:\n",
    "    print(\"i will buy a BMW car\")\n",
    "elif pocketmoney < 13000:\n",
    "    print(\"i will go for an apartment\")\n",
    "elif pocketmoney < 12000 :\n",
    "    print(\"i will build a school\")\n",
    "else :\n",
    "    print(\"i will go for saving\")"
   ]
  },
  {
   "cell_type": "code",
   "execution_count": 39,
   "id": "94c4097c",
   "metadata": {},
   "outputs": [],
   "source": [
    "m = 46 + 6j"
   ]
  },
  {
   "cell_type": "code",
   "execution_count": 40,
   "id": "9c19a3cb",
   "metadata": {},
   "outputs": [
    {
     "data": {
      "text/plain": [
       "complex"
      ]
     },
     "execution_count": 40,
     "metadata": {},
     "output_type": "execute_result"
    }
   ],
   "source": [
    "type(m)"
   ]
  },
  {
   "cell_type": "code",
   "execution_count": 41,
   "id": "2342eb30",
   "metadata": {},
   "outputs": [],
   "source": [
    "n = 56 + 8j"
   ]
  },
  {
   "cell_type": "code",
   "execution_count": 42,
   "id": "53c964be",
   "metadata": {},
   "outputs": [
    {
     "data": {
      "text/plain": [
       "(102+14j)"
      ]
     },
     "execution_count": 42,
     "metadata": {},
     "output_type": "execute_result"
    }
   ],
   "source": [
    "m + n"
   ]
  },
  {
   "cell_type": "code",
   "execution_count": 43,
   "id": "623388e6",
   "metadata": {},
   "outputs": [
    {
     "data": {
      "text/plain": [
       "(2528+704j)"
      ]
     },
     "execution_count": 43,
     "metadata": {},
     "output_type": "execute_result"
    }
   ],
   "source": [
    "m * n"
   ]
  },
  {
   "cell_type": "code",
   "execution_count": 44,
   "id": "0fbc2492",
   "metadata": {},
   "outputs": [
    {
     "data": {
      "text/plain": [
       "(0.82-0.009999999999999995j)"
      ]
     },
     "execution_count": 44,
     "metadata": {},
     "output_type": "execute_result"
    }
   ],
   "source": [
    "m/n"
   ]
  },
  {
   "cell_type": "code",
   "execution_count": 45,
   "id": "6fa21d29",
   "metadata": {},
   "outputs": [
    {
     "data": {
      "text/plain": [
       "(-10-2j)"
      ]
     },
     "execution_count": 45,
     "metadata": {},
     "output_type": "execute_result"
    }
   ],
   "source": [
    "m - n"
   ]
  },
  {
   "cell_type": "code",
   "execution_count": 46,
   "id": "c11f1282",
   "metadata": {},
   "outputs": [
    {
     "data": {
      "text/plain": [
       "complex"
      ]
     },
     "execution_count": 46,
     "metadata": {},
     "output_type": "execute_result"
    }
   ],
   "source": [
    "type(m/n)"
   ]
  },
  {
   "cell_type": "code",
   "execution_count": 47,
   "id": "980de761",
   "metadata": {},
   "outputs": [
    {
     "data": {
      "text/plain": [
       "46.0"
      ]
     },
     "execution_count": 47,
     "metadata": {},
     "output_type": "execute_result"
    }
   ],
   "source": [
    "m.real"
   ]
  },
  {
   "cell_type": "code",
   "execution_count": 48,
   "id": "eb6b02ee",
   "metadata": {},
   "outputs": [
    {
     "data": {
      "text/plain": [
       "56.0"
      ]
     },
     "execution_count": 48,
     "metadata": {},
     "output_type": "execute_result"
    }
   ],
   "source": [
    "n.real"
   ]
  },
  {
   "cell_type": "code",
   "execution_count": 49,
   "id": "8dd53b41",
   "metadata": {},
   "outputs": [
    {
     "data": {
      "text/plain": [
       "6.0"
      ]
     },
     "execution_count": 49,
     "metadata": {},
     "output_type": "execute_result"
    }
   ],
   "source": [
    "m.imag"
   ]
  },
  {
   "cell_type": "code",
   "execution_count": 50,
   "id": "79b9a8ab",
   "metadata": {},
   "outputs": [
    {
     "data": {
      "text/plain": [
       "8.0"
      ]
     },
     "execution_count": 50,
     "metadata": {},
     "output_type": "execute_result"
    }
   ],
   "source": [
    "n.imag"
   ]
  },
  {
   "cell_type": "code",
   "execution_count": 52,
   "id": "d8d507c1",
   "metadata": {},
   "outputs": [
    {
     "name": "stdout",
     "output_type": "stream",
     "text": [
      "mazi/ham\n"
     ]
    }
   ],
   "source": [
    "v = print(\"mazi/ham\")"
   ]
  },
  {
   "cell_type": "code",
   "execution_count": 55,
   "id": "e7ad639d",
   "metadata": {},
   "outputs": [],
   "source": [
    "z = \"mazi,ham\""
   ]
  },
  {
   "cell_type": "code",
   "execution_count": 56,
   "id": "22781518",
   "metadata": {},
   "outputs": [
    {
     "data": {
      "text/plain": [
       "'mazi,ham'"
      ]
     },
     "execution_count": 56,
     "metadata": {},
     "output_type": "execute_result"
    }
   ],
   "source": [
    "z"
   ]
  },
  {
   "cell_type": "code",
   "execution_count": 57,
   "id": "2541ed8a",
   "metadata": {},
   "outputs": [
    {
     "name": "stdout",
     "output_type": "stream",
     "text": [
      "mazi,ham\n"
     ]
    }
   ],
   "source": [
    "print(z)"
   ]
  },
  {
   "cell_type": "code",
   "execution_count": 58,
   "id": "05cf3e7d",
   "metadata": {},
   "outputs": [
    {
     "data": {
      "text/plain": [
       "str"
      ]
     },
     "execution_count": 58,
     "metadata": {},
     "output_type": "execute_result"
    }
   ],
   "source": [
    "type(z)"
   ]
  },
  {
   "cell_type": "code",
   "execution_count": 59,
   "id": "16a9ef66",
   "metadata": {},
   "outputs": [
    {
     "name": "stdout",
     "output_type": "stream",
     "text": [
      "this is my var p 67\n",
      "this is my var q 78\n",
      "this is my var r 98\n"
     ]
    },
    {
     "data": {
      "text/plain": [
       "98"
      ]
     },
     "execution_count": 59,
     "metadata": {},
     "output_type": "execute_result"
    }
   ],
   "source": [
    "int(input(\"this is my var p\"))\n",
    "int(input(\"this is my var q\"))\n",
    "int(input(\"this is my var r\"))"
   ]
  },
  {
   "cell_type": "code",
   "execution_count": 61,
   "id": "bda8846a",
   "metadata": {},
   "outputs": [],
   "source": [
    "j = a+b+c"
   ]
  },
  {
   "cell_type": "code",
   "execution_count": 62,
   "id": "215a97f0",
   "metadata": {},
   "outputs": [
    {
     "data": {
      "text/plain": [
       "56"
      ]
     },
     "execution_count": 62,
     "metadata": {},
     "output_type": "execute_result"
    }
   ],
   "source": [
    "j"
   ]
  },
  {
   "cell_type": "code",
   "execution_count": 63,
   "id": "d8c341cd",
   "metadata": {},
   "outputs": [],
   "source": [
    "l = a*b*d"
   ]
  },
  {
   "cell_type": "code",
   "execution_count": 64,
   "id": "4e39eeeb",
   "metadata": {},
   "outputs": [
    {
     "data": {
      "text/plain": [
       "5400"
      ]
     },
     "execution_count": 64,
     "metadata": {},
     "output_type": "execute_result"
    }
   ],
   "source": [
    "l"
   ]
  },
  {
   "cell_type": "code",
   "execution_count": 65,
   "id": "f862179f",
   "metadata": {},
   "outputs": [],
   "source": [
    "t = c+d"
   ]
  },
  {
   "cell_type": "code",
   "execution_count": 66,
   "id": "6310699b",
   "metadata": {},
   "outputs": [
    {
     "data": {
      "text/plain": [
       "79"
      ]
     },
     "execution_count": 66,
     "metadata": {},
     "output_type": "execute_result"
    }
   ],
   "source": [
    "t"
   ]
  },
  {
   "cell_type": "code",
   "execution_count": null,
   "id": "deb08152",
   "metadata": {},
   "outputs": [],
   "source": []
  }
 ],
 "metadata": {
  "kernelspec": {
   "display_name": "Python 3 (ipykernel)",
   "language": "python",
   "name": "python3"
  },
  "language_info": {
   "codemirror_mode": {
    "name": "ipython",
    "version": 3
   },
   "file_extension": ".py",
   "mimetype": "text/x-python",
   "name": "python",
   "nbconvert_exporter": "python",
   "pygments_lexer": "ipython3",
   "version": "3.9.7"
  }
 },
 "nbformat": 4,
 "nbformat_minor": 5
}
